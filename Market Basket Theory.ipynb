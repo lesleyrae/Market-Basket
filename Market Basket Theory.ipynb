{
 "cells": [
  {
   "cell_type": "markdown",
   "id": "46292670",
   "metadata": {},
   "source": [
    "## Load the data"
   ]
  },
  {
   "cell_type": "code",
   "execution_count": 2,
   "id": "0bfa1948",
   "metadata": {
    "scrolled": true
   },
   "outputs": [
    {
     "name": "stdout",
     "output_type": "stream",
     "text": [
      "          Transaction\n",
      "0    History,Bookmark\n",
      "1    History,Bookmark\n",
      "2    Fiction,Bookmark\n",
      "3  Biography,Bookmark\n",
      "4    History,Bookmark\n"
     ]
    }
   ],
   "source": [
    "import pandas as pd\n",
    "books=pd.read_csv('bookstore_transactions.csv')\n",
    "print(books.head())"
   ]
  },
  {
   "cell_type": "code",
   "execution_count": 62,
   "id": "f62a1d5c",
   "metadata": {},
   "outputs": [
    {
     "name": "stdout",
     "output_type": "stream",
     "text": [
      "<class 'pandas.core.frame.DataFrame'>\n",
      "RangeIndex: 99 entries, 0 to 98\n",
      "Data columns (total 2 columns):\n",
      " #   Column        Non-Null Count  Dtype \n",
      "---  ------        --------------  ----- \n",
      " 0   Transaction   99 non-null     object\n",
      " 1   transactions  99 non-null     object\n",
      "dtypes: object(2)\n",
      "memory usage: 1.7+ KB\n"
     ]
    }
   ],
   "source": [
    "books.info()"
   ]
  },
  {
   "cell_type": "code",
   "execution_count": 47,
   "id": "530a618f",
   "metadata": {
    "scrolled": false
   },
   "outputs": [
    {
     "name": "stdout",
     "output_type": "stream",
     "text": [
      "<class 'pandas.core.frame.DataFrame'>\n",
      "RangeIndex: 227760 entries, 0 to 227759\n",
      "Data columns (total 3 columns):\n",
      " #   Column       Non-Null Count   Dtype \n",
      "---  ------       --------------   ----- \n",
      " 0   InvoiceNo    227760 non-null  object\n",
      " 1   StockCode    227760 non-null  object\n",
      " 2   Description  227404 non-null  object\n",
      "dtypes: object(3)\n",
      "memory usage: 5.2+ MB\n",
      "None\n"
     ]
    }
   ],
   "source": [
    "retail=pd.read_csv('online_retail.csv')\n",
    "print(retail.info())"
   ]
  },
  {
   "cell_type": "code",
   "execution_count": 63,
   "id": "b1c0affb",
   "metadata": {},
   "outputs": [
    {
     "name": "stdout",
     "output_type": "stream",
     "text": [
      "   movieId                               title  \\\n",
      "0        1                    Toy Story (1995)   \n",
      "1        2                      Jumanji (1995)   \n",
      "2        3             Grumpier Old Men (1995)   \n",
      "3        4            Waiting to Exhale (1995)   \n",
      "4        5  Father of the Bride Part II (1995)   \n",
      "\n",
      "                                        genres  \n",
      "0  Adventure|Animation|Children|Comedy|Fantasy  \n",
      "1                   Adventure|Children|Fantasy  \n",
      "2                               Comedy|Romance  \n",
      "3                         Comedy|Drama|Romance  \n",
      "4                                       Comedy  \n"
     ]
    }
   ],
   "source": [
    "movie=pd.read_csv('movielens_movies.csv')\n",
    "print(movie.head())"
   ]
  },
  {
   "cell_type": "code",
   "execution_count": 48,
   "id": "29c43ebb",
   "metadata": {},
   "outputs": [
    {
     "name": "stdout",
     "output_type": "stream",
     "text": [
      "  InvoiceNo StockCode                          Description\n",
      "0    562583    35637A      IVORY STRING CURTAIN WITH POLE \n",
      "1    562583    35638A        PINK AND BLACK STRING CURTAIN\n",
      "2    562583    84927F                PSYCHEDELIC TILE HOOK\n",
      "3    562583     22425                ENAMEL COLANDER CREAM\n",
      "4    562583     16008  SMALL FOLDING SCISSOR(POINTED EDGE)\n"
     ]
    }
   ],
   "source": [
    "print(retail.head())"
   ]
  },
  {
   "cell_type": "code",
   "execution_count": 14,
   "id": "1627de21",
   "metadata": {},
   "outputs": [],
   "source": [
    "transactions=books['Transaction'].apply(lambda t: t.split(','))"
   ]
  },
  {
   "cell_type": "code",
   "execution_count": 17,
   "id": "7a31e690",
   "metadata": {},
   "outputs": [],
   "source": [
    "transactions=list(transactions)"
   ]
  },
  {
   "cell_type": "code",
   "execution_count": 18,
   "id": "77bfa0d5",
   "metadata": {
    "scrolled": true
   },
   "outputs": [
    {
     "data": {
      "text/plain": [
       "0"
      ]
     },
     "execution_count": 18,
     "metadata": {},
     "output_type": "execute_result"
    }
   ],
   "source": [
    "transactions.count(['biography','fiction'])"
   ]
  },
  {
   "cell_type": "markdown",
   "id": "da3591a2",
   "metadata": {},
   "source": [
    "## identifying assocaitions rules with itertools"
   ]
  },
  {
   "cell_type": "code",
   "execution_count": 21,
   "id": "19bda7a0",
   "metadata": {},
   "outputs": [],
   "source": [
    "from itertools import permutations"
   ]
  },
  {
   "cell_type": "code",
   "execution_count": 41,
   "id": "16ad54c4",
   "metadata": {
    "scrolled": true
   },
   "outputs": [
    {
     "name": "stdout",
     "output_type": "stream",
     "text": [
      "{'Poetry', 'History', 'Biography', 'Fiction', 'Bookmark'}\n"
     ]
    }
   ],
   "source": [
    "import numpy as np\n",
    "list2=[]\n",
    "for item in transactions:\n",
    "    list2.extend(item)\n",
    "print(set(list2))"
   ]
  },
  {
   "cell_type": "code",
   "execution_count": 43,
   "id": "56224599",
   "metadata": {},
   "outputs": [
    {
     "name": "stdout",
     "output_type": "stream",
     "text": [
      "[('Poetry', 'History'), ('Poetry', 'Biography'), ('Poetry', 'Fiction'), ('Poetry', 'Bookmark'), ('History', 'Poetry'), ('History', 'Biography'), ('History', 'Fiction'), ('History', 'Bookmark'), ('Biography', 'Poetry'), ('Biography', 'History'), ('Biography', 'Fiction'), ('Biography', 'Bookmark'), ('Fiction', 'Poetry'), ('Fiction', 'History'), ('Fiction', 'Biography'), ('Fiction', 'Bookmark'), ('Bookmark', 'Poetry'), ('Bookmark', 'History'), ('Bookmark', 'Biography'), ('Bookmark', 'Fiction')]\n"
     ]
    }
   ],
   "source": [
    "# compute and print rules\n",
    "rules=list(permutations(set(list2),2))\n",
    "print(rules)"
   ]
  },
  {
   "cell_type": "code",
   "execution_count": 45,
   "id": "4295da8a",
   "metadata": {},
   "outputs": [
    {
     "name": "stdout",
     "output_type": "stream",
     "text": [
      "20\n"
     ]
    }
   ],
   "source": [
    "print(len(rules))"
   ]
  },
  {
   "cell_type": "markdown",
   "id": "ba966d81",
   "metadata": {},
   "source": [
    "## Metrics and pruning\n",
    "A metric is measure of performance for rules\n",
    "Pruning is the use of meters to discard rules"
   ]
  },
  {
   "cell_type": "code",
   "execution_count": 51,
   "id": "f948e5b9",
   "metadata": {},
   "outputs": [],
   "source": [
    "from mlxtend.preprocessing import TransactionEncoder"
   ]
  },
  {
   "cell_type": "code",
   "execution_count": 52,
   "id": "cedc46b7",
   "metadata": {},
   "outputs": [],
   "source": [
    "encoder=TransactionEncoder().fit(transactions)"
   ]
  },
  {
   "cell_type": "code",
   "execution_count": 54,
   "id": "2c7d32e8",
   "metadata": {},
   "outputs": [
    {
     "name": "stdout",
     "output_type": "stream",
     "text": [
      "TransactionEncoder()\n"
     ]
    }
   ],
   "source": [
    "print(encoder)"
   ]
  },
  {
   "cell_type": "code",
   "execution_count": 53,
   "id": "da7a6998",
   "metadata": {},
   "outputs": [],
   "source": [
    "onehot=encoder.transform(transactions)"
   ]
  },
  {
   "cell_type": "code",
   "execution_count": 69,
   "id": "68da1a7c",
   "metadata": {},
   "outputs": [
    {
     "data": {
      "text/html": [
       "<div>\n",
       "<style scoped>\n",
       "    .dataframe tbody tr th:only-of-type {\n",
       "        vertical-align: middle;\n",
       "    }\n",
       "\n",
       "    .dataframe tbody tr th {\n",
       "        vertical-align: top;\n",
       "    }\n",
       "\n",
       "    .dataframe thead th {\n",
       "        text-align: right;\n",
       "    }\n",
       "</style>\n",
       "<table border=\"1\" class=\"dataframe\">\n",
       "  <thead>\n",
       "    <tr style=\"text-align: right;\">\n",
       "      <th></th>\n",
       "      <th>InvoiceNo</th>\n",
       "      <th>StockCode</th>\n",
       "      <th>Description</th>\n",
       "    </tr>\n",
       "  </thead>\n",
       "  <tbody>\n",
       "    <tr>\n",
       "      <th>0</th>\n",
       "      <td>562583</td>\n",
       "      <td>35637A</td>\n",
       "      <td>IVORY STRING CURTAIN WITH POLE</td>\n",
       "    </tr>\n",
       "    <tr>\n",
       "      <th>1</th>\n",
       "      <td>562583</td>\n",
       "      <td>35638A</td>\n",
       "      <td>PINK AND BLACK STRING CURTAIN</td>\n",
       "    </tr>\n",
       "    <tr>\n",
       "      <th>2</th>\n",
       "      <td>562583</td>\n",
       "      <td>84927F</td>\n",
       "      <td>PSYCHEDELIC TILE HOOK</td>\n",
       "    </tr>\n",
       "    <tr>\n",
       "      <th>3</th>\n",
       "      <td>562583</td>\n",
       "      <td>22425</td>\n",
       "      <td>ENAMEL COLANDER CREAM</td>\n",
       "    </tr>\n",
       "    <tr>\n",
       "      <th>4</th>\n",
       "      <td>562583</td>\n",
       "      <td>16008</td>\n",
       "      <td>SMALL FOLDING SCISSOR(POINTED EDGE)</td>\n",
       "    </tr>\n",
       "    <tr>\n",
       "      <th>...</th>\n",
       "      <td>...</td>\n",
       "      <td>...</td>\n",
       "      <td>...</td>\n",
       "    </tr>\n",
       "    <tr>\n",
       "      <th>227755</th>\n",
       "      <td>C581229</td>\n",
       "      <td>23158</td>\n",
       "      <td>SET OF 5 LUCKY CAT MAGNETS</td>\n",
       "    </tr>\n",
       "    <tr>\n",
       "      <th>227756</th>\n",
       "      <td>C581229</td>\n",
       "      <td>22712</td>\n",
       "      <td>CARD DOLLY GIRL</td>\n",
       "    </tr>\n",
       "    <tr>\n",
       "      <th>227757</th>\n",
       "      <td>C581229</td>\n",
       "      <td>22027</td>\n",
       "      <td>TEA PARTY BIRTHDAY CARD</td>\n",
       "    </tr>\n",
       "    <tr>\n",
       "      <th>227758</th>\n",
       "      <td>C581229</td>\n",
       "      <td>21508</td>\n",
       "      <td>VINTAGE KID DOLLY CARD</td>\n",
       "    </tr>\n",
       "    <tr>\n",
       "      <th>227759</th>\n",
       "      <td>C581229</td>\n",
       "      <td>21507</td>\n",
       "      <td>ELEPHANT BIRTHDAY CARD</td>\n",
       "    </tr>\n",
       "  </tbody>\n",
       "</table>\n",
       "<p>227760 rows × 3 columns</p>\n",
       "</div>"
      ],
      "text/plain": [
       "       InvoiceNo StockCode                          Description\n",
       "0         562583    35637A      IVORY STRING CURTAIN WITH POLE \n",
       "1         562583    35638A        PINK AND BLACK STRING CURTAIN\n",
       "2         562583    84927F                PSYCHEDELIC TILE HOOK\n",
       "3         562583     22425                ENAMEL COLANDER CREAM\n",
       "4         562583     16008  SMALL FOLDING SCISSOR(POINTED EDGE)\n",
       "...          ...       ...                                  ...\n",
       "227755   C581229     23158          SET OF 5 LUCKY CAT MAGNETS \n",
       "227756   C581229     22712                     CARD DOLLY GIRL \n",
       "227757   C581229     22027              TEA PARTY BIRTHDAY CARD\n",
       "227758   C581229     21508              VINTAGE KID DOLLY CARD \n",
       "227759   C581229     21507              ELEPHANT BIRTHDAY CARD \n",
       "\n",
       "[227760 rows x 3 columns]"
      ]
     },
     "execution_count": 69,
     "metadata": {},
     "output_type": "execute_result"
    }
   ],
   "source": [
    "retail"
   ]
  },
  {
   "cell_type": "code",
   "execution_count": 57,
   "id": "806a4a6b",
   "metadata": {},
   "outputs": [],
   "source": [
    "onehot=pd.DataFrame(onehot,columns=encoder.columns_)"
   ]
  },
  {
   "cell_type": "code",
   "execution_count": 58,
   "id": "4bcda6dc",
   "metadata": {},
   "outputs": [
    {
     "name": "stdout",
     "output_type": "stream",
     "text": [
      "Biography    0.404040\n",
      "Bookmark     1.000000\n",
      "Fiction      0.252525\n",
      "History      0.252525\n",
      "Poetry       0.090909\n",
      "dtype: float64\n"
     ]
    }
   ],
   "source": [
    "print(onehot.mean())"
   ]
  },
  {
   "cell_type": "markdown",
   "id": "0ea4c0f6",
   "metadata": {},
   "source": [
    "## Confidence metrics\n",
    "can imporve over support with additional metrics\n",
    "add confidence provides a more complete picture\n",
    "Support(milk&coffee)/Support(milk)\n",
    "## The life metric\n",
    "Support(X&Y)/Support(X)*Support(Y)"
   ]
  },
  {
   "cell_type": "code",
   "execution_count": null,
   "id": "c42c549e",
   "metadata": {},
   "outputs": [],
   "source": [
    "# Compute support for Hunger and Potter\n",
    "supportHP = np.logical_and(books['Hunger'], books['Potter']).mean()\n",
    "\n",
    "# Compute support for Hunger and Twilight\n",
    "supportHT = np.logical_and(books['Hunger'], books['Twilight']).mean()\n",
    "\n",
    "# Compute support for Potter and Twilight\n",
    "supportPT = supportHP / supportHT \n",
    "\n",
    "# Print support values\n",
    "print(\"Hunger Games and Harry Potter: %.2f\" % supportHP)\n",
    "print(\"Hunger Games and Twilight: %.2f\" % supportHT)\n",
    "print(\"Harry Potter and Twilight: %.2f\" % supportPT)"
   ]
  },
  {
   "cell_type": "code",
   "execution_count": null,
   "id": "e05f8347",
   "metadata": {},
   "outputs": [],
   "source": [
    "# Compute support for Potter and Twilight\n",
    "supportPT = np.logical_and(books['Potter'],books['Twilight']).mean()\n",
    "\n",
    "# Compute support for Potter\n",
    "supportP = books['Potter'].mean()\n",
    "\n",
    "# Compute support for Twilight\n",
    "supportT = books['Twilight'].mean()\n",
    "\n",
    "# Compute confidence for both rules\n",
    "confidencePT = supportPT / supportP\n",
    "confidenceTP = supportPT / supportT\n",
    "\n",
    "# Print results\n",
    "print('{0:.2f}, {1:.2f}'.format(confidencePT, confidenceTP))"
   ]
  },
  {
   "cell_type": "markdown",
   "id": "664456f3",
   "metadata": {},
   "source": [
    "## Building on simpler metrics\n",
    "support(X)=frequency(X)/N\n",
    "support(X-Y)=frequency(X&y)/N\n",
    "confidence(X-y)=support(x-y)/support(x)\n",
    "lift(x-y)=support(x-y)/support(X)support(y)\n",
    "** good rule is 1\n",
    "the leverage metric\n",
    "leverage(x-y)=support(x-y)-support(X)support(y)\n",
    "** good rule is 0\n",
    "Conviction(x-y)= support(X)support(y)/support(x-y)"
   ]
  },
  {
   "cell_type": "code",
   "execution_count": null,
   "id": "3cde4f4f",
   "metadata": {},
   "outputs": [],
   "source": [
    "# Compute support for Potter AND Hunger\n",
    "supportPH = np.logical_and(books['Potter'], books['Hunger']).mean()\n",
    "\n",
    "# Compute support for Potter\n",
    "supportP = books['Potter'].mean()\n",
    "\n",
    "# Compute support for NOT Hunger\n",
    "supportnH = 1.0 - books['Hunger'].mean()\n",
    "\n",
    "# Compute support for Potter and NOT Hunger\n",
    "supportPnH = supportP - supportPH\n",
    "\n",
    "# Compute and print conviction for Potter -> Hunger\n",
    "conviction = supportP * supportnH / supportPnH\n",
    "print(\"Conviction: %.2f\" % conviction)"
   ]
  },
  {
   "cell_type": "code",
   "execution_count": null,
   "id": "87891f70",
   "metadata": {},
   "outputs": [],
   "source": [
    "def conviction(antecedent, consequent):\n",
    "\t# Compute support for antecedent AND consequent\n",
    "\tsupportAC = np.logical_and(antecedent, consequent).mean()\n",
    "\n",
    "\t# Compute support for antecedent\n",
    "\tsupportA = antecedent.mean()\n",
    "\n",
    "\t# Compute support for NOT consequent\n",
    "\tsupportnC = 1.0 - consequent.mean()\n",
    "\n",
    "\t# Compute support for antecedent and NOT consequent\n",
    "\tsupportAnC = supportA - supportAC\n",
    "\n",
    "    # Return conviction\n",
    "\treturn supportA * supportnC / supportAnC\n",
    "\n",
    "# Compute conviction for twilight -> potter and potter -> twilight\n",
    "convictionTP = conviction(twilight, potter)\n",
    "convictionPT = conviction(potter, twilight)\n",
    "\n",
    "# Compute conviction for twilight -> hunger and hunger -> twilight\n",
    "convictionTH = conviction(twilight, hunger)\n",
    "convictionHT = conviction(hunger, twilight)\n",
    "\n",
    "# Compute conviction for potter -> hunger and hunger -> potter\n",
    "convictionPH = conviction(potter, hunger)\n",
    "convictionHP = conviction(hunger, potter)\n",
    "\n",
    "# Print results\n",
    "print('Harry Potter -> Twilight: ', convictionHT)\n",
    "print('Twilight -> Potter: ', convictionTP)"
   ]
  },
  {
   "cell_type": "markdown",
   "id": "0b80bf28",
   "metadata": {},
   "source": [
    "## Association and Disassociation\n",
    "## Zhang metrics\n",
    "** value+1 perfect assocation\n",
    "** value-1 perfect disassociations"
   ]
  },
  {
   "cell_type": "code",
   "execution_count": null,
   "id": "68848591",
   "metadata": {},
   "outputs": [],
   "source": [
    "# Compute the support of Twilight and Harry Potter\n",
    "supportT = books['Twilight'].mean()\n",
    "supportP = books['Potter'].mean()\n",
    "# Compute the support of both books\n",
    "supportTP = np.logical_and(books['Twilight'],books['Potter']).mean()\n",
    "\n",
    "# Complete the expressions for the numerator and denominator\n",
    "numerator = supportTP - supportT*supportP\n",
    "denominator = max(supportTP*(1-supportT), supportT*(supportP-supportTP))\n",
    "\n",
    "# Compute and print Zhang's metric\n",
    "zhang = numerator / denominator\n",
    "print(zhang)"
   ]
  },
  {
   "cell_type": "code",
   "execution_count": null,
   "id": "9887dc00",
   "metadata": {},
   "outputs": [],
   "source": [
    "# Define a function to compute Zhang's metric\n",
    "def zhang(antecedent, consequent):\n",
    "\t# Compute the support of each book\n",
    "\tsupportA = antecedent.mean()\n",
    "\tsupportC = consequent.mean()\n",
    "\n",
    "\t# Compute the support of both books\n",
    "\tsupportAC = np.logical_and(antecedent, consequent).mean()\n",
    "\n",
    "\t# Complete the expressions for the numerator and denominator\n",
    "\tnumerator = supportAC - supportA*supportC\n",
    "\tdenominator = max(supportAC*(1-supportA), supportA*(supportC-supportAC))\n",
    "\n",
    "\t# Return Zhang's metric\n",
    "\treturn numerator / denominator"
   ]
  },
  {
   "cell_type": "code",
   "execution_count": null,
   "id": "9f01fba2",
   "metadata": {},
   "outputs": [],
   "source": [
    "# Define an empty list for Zhang's metric\n",
    "zhangs_metric = []\n",
    "\n",
    "# Loop over lists in itemsets\n",
    "for itemset in itemsets:\n",
    "    # Extract the antecedent and consequent columns\n",
    "\tantecedent = books[itemset[0]]\n",
    "\tconsequent = books[itemset[1]]\n",
    "    \n",
    "    # Complete Zhang's metric and append it to the list\n",
    "\tzhangs_metric.append(zhang(antecedent, consequent))\n",
    "    \n",
    "# Print results\n",
    "rules['zhang'] = zhangs_metric\n",
    "print(rules)"
   ]
  },
  {
   "cell_type": "markdown",
   "id": "103f6927",
   "metadata": {},
   "source": [
    "## Advanced \n",
    "1. generate large set of rules\n",
    "\n",
    "2. perform muti-metric filtering"
   ]
  },
  {
   "cell_type": "code",
   "execution_count": null,
   "id": "d35fab0a",
   "metadata": {},
   "outputs": [],
   "source": [
    "# Preview the rules DataFrame using the .head() method\n",
    "print(rules.head())\n",
    "\n",
    "# Select the subset of rules with antecedent support greater than 0.05\n",
    "rules = rules[rules['antecedent support'] >0.05]\n",
    "\n",
    "# Select the subset of rules with a consequent support greater than 0.01\n",
    "rules = rules[rules['consequent support']>0.01]\n",
    "\n",
    "# Select the subset of rules with a conviction greater than 1.01\n",
    "rules = rules[rules['conviction']>1.01]\n",
    "\n",
    "# Print remaining rules\n",
    "print(rules)"
   ]
  },
  {
   "cell_type": "markdown",
   "id": "0a8e79e1",
   "metadata": {},
   "source": [
    "## Aggregation\n",
    "items_categories"
   ]
  },
  {
   "cell_type": "code",
   "execution_count": 71,
   "id": "9da41343",
   "metadata": {},
   "outputs": [
    {
     "data": {
      "text/html": [
       "<div>\n",
       "<style scoped>\n",
       "    .dataframe tbody tr th:only-of-type {\n",
       "        vertical-align: middle;\n",
       "    }\n",
       "\n",
       "    .dataframe tbody tr th {\n",
       "        vertical-align: top;\n",
       "    }\n",
       "\n",
       "    .dataframe thead th {\n",
       "        text-align: right;\n",
       "    }\n",
       "</style>\n",
       "<table border=\"1\" class=\"dataframe\">\n",
       "  <thead>\n",
       "    <tr style=\"text-align: right;\">\n",
       "      <th></th>\n",
       "      <th>InvoiceNo</th>\n",
       "      <th>StockCode</th>\n",
       "      <th>Description</th>\n",
       "    </tr>\n",
       "  </thead>\n",
       "  <tbody>\n",
       "    <tr>\n",
       "      <th>0</th>\n",
       "      <td>562583</td>\n",
       "      <td>35637A</td>\n",
       "      <td>IVORY STRING CURTAIN WITH POLE</td>\n",
       "    </tr>\n",
       "    <tr>\n",
       "      <th>1</th>\n",
       "      <td>562583</td>\n",
       "      <td>35638A</td>\n",
       "      <td>PINK AND BLACK STRING CURTAIN</td>\n",
       "    </tr>\n",
       "    <tr>\n",
       "      <th>2</th>\n",
       "      <td>562583</td>\n",
       "      <td>84927F</td>\n",
       "      <td>PSYCHEDELIC TILE HOOK</td>\n",
       "    </tr>\n",
       "    <tr>\n",
       "      <th>3</th>\n",
       "      <td>562583</td>\n",
       "      <td>22425</td>\n",
       "      <td>ENAMEL COLANDER CREAM</td>\n",
       "    </tr>\n",
       "    <tr>\n",
       "      <th>4</th>\n",
       "      <td>562583</td>\n",
       "      <td>16008</td>\n",
       "      <td>SMALL FOLDING SCISSOR(POINTED EDGE)</td>\n",
       "    </tr>\n",
       "  </tbody>\n",
       "</table>\n",
       "</div>"
      ],
      "text/plain": [
       "  InvoiceNo StockCode                          Description\n",
       "0    562583    35637A      IVORY STRING CURTAIN WITH POLE \n",
       "1    562583    35638A        PINK AND BLACK STRING CURTAIN\n",
       "2    562583    84927F                PSYCHEDELIC TILE HOOK\n",
       "3    562583     22425                ENAMEL COLANDER CREAM\n",
       "4    562583     16008  SMALL FOLDING SCISSOR(POINTED EDGE)"
      ]
     },
     "execution_count": 71,
     "metadata": {},
     "output_type": "execute_result"
    }
   ],
   "source": [
    "retail.head()"
   ]
  },
  {
   "cell_type": "code",
   "execution_count": 72,
   "id": "9e62249a",
   "metadata": {
    "scrolled": true
   },
   "outputs": [],
   "source": [
    "invoice=retail['InvoiceNo'].unique()"
   ]
  },
  {
   "cell_type": "code",
   "execution_count": 73,
   "id": "70ed9dae",
   "metadata": {},
   "outputs": [],
   "source": [
    "libraries=[list(retail[retail['InvoiceNo']==u].Description) for u in invoice]"
   ]
  },
  {
   "cell_type": "code",
   "execution_count": 74,
   "id": "7e5d50a2",
   "metadata": {},
   "outputs": [
    {
     "name": "stdout",
     "output_type": "stream",
     "text": [
      "['IVORY STRING CURTAIN WITH POLE ', 'PINK AND BLACK STRING CURTAIN', 'PSYCHEDELIC TILE HOOK', 'ENAMEL COLANDER CREAM', 'SMALL FOLDING SCISSOR(POINTED EDGE)', 'JIGSAW TOADSTOOLS 3 PIECE']\n"
     ]
    }
   ],
   "source": [
    "print(libraries[0])"
   ]
  },
  {
   "cell_type": "code",
   "execution_count": 67,
   "id": "7eca2828",
   "metadata": {},
   "outputs": [
    {
     "name": "stdout",
     "output_type": "stream",
     "text": [
      "3461\n"
     ]
    }
   ],
   "source": [
    "print(len(retail['Description'].unique()))"
   ]
  },
  {
   "cell_type": "markdown",
   "id": "23c03371",
   "metadata": {},
   "source": [
    "## pruning"
   ]
  },
  {
   "cell_type": "code",
   "execution_count": null,
   "id": "14766201",
   "metadata": {},
   "outputs": [],
   "source": [
    "def aggregate(item):\n",
    "\t# Select the column headers for sign items\n",
    "\titem_headers = [i for i in onehot.columns if i.lower().find(item)>=0]\n",
    "\n",
    "\t# Select columns of sign items\n",
    "\titem_columns = onehot[item_headers]\n",
    "\n",
    "\t# Return category of aggregated items\n",
    "\treturn item_columns.sum(axis = 1) >= 1.0\n",
    "\n",
    "# Aggregate items for the bags, boxes, and candles categories  \n",
    "bags = aggregate('bag')\n",
    "boxes = aggregate('boxes')\n",
    "candles = aggregate('candles')"
   ]
  },
  {
   "cell_type": "markdown",
   "id": "6cd01fc8",
   "metadata": {},
   "source": [
    "## Aprior algorithm\n",
    "**Reducing the number of itemsets\n",
    "** sensible\n",
    "- subsets of frequent sets are frequent\n",
    "- retain sets known to be frequent\n",
    "- prune sets not known to be frequent"
   ]
  },
  {
   "cell_type": "code",
   "execution_count": null,
   "id": "9acd258a",
   "metadata": {},
   "outputs": [],
   "source": [
    "# Import apriori from mlxtend\n",
    "from mlxtend.frequent_patterns import apriori\n",
    "\n",
    "print(onehot)\n",
    "# Compute frequent itemsets using the Apriori algorithm\n",
    "frequent_itemsets = apriori(onehot, \n",
    "                            min_support = 0.006, \n",
    "                            max_len = 3, \n",
    "                            use_colnames = True)\n",
    "\n",
    "# Print a preview of the frequent itemsets\n",
    "print(frequent_itemsets.head())"
   ]
  },
  {
   "cell_type": "code",
   "execution_count": null,
   "id": "602fb048",
   "metadata": {},
   "outputs": [],
   "source": [
    "# Import apriori from mlxtend\n",
    "from mlxtend.frequent_patterns import apriori\n",
    "\n",
    "# Compute frequent itemsets using a support of 0.003 and length of 3\n",
    "frequent_itemsets_1 = apriori(onehot, min_support = 0.003, \n",
    "                            max_len = 3, use_colnames = True)\n",
    "\n",
    "# Compute frequent itemsets using a support of 0.001 and length of 3\n",
    "frequent_itemsets_2 = apriori(onehot, min_support = 0.001, \n",
    "                           max_len=3, use_colnames = True)\n",
    "\n",
    "# Print the number of freqeuent itemsets\n",
    "print(len(frequent_itemsets_1), len(frequent_itemsets_2))"
   ]
  },
  {
   "cell_type": "markdown",
   "id": "3823826f",
   "metadata": {},
   "source": [
    "## Apriori pruning\n",
    "### Prunes itemsets\n",
    "applies minimum support threhold\n",
    "modified version can prun by number of items\n",
    "Doesn't tell us about association rules\n",
    "### association rules\n",
    "many more assocaition rules than itemsets"
   ]
  },
  {
   "cell_type": "markdown",
   "id": "2b307407",
   "metadata": {},
   "source": [
    "## Generating association rules"
   ]
  },
  {
   "cell_type": "code",
   "execution_count": null,
   "id": "eb123759",
   "metadata": {},
   "outputs": [],
   "source": [
    "# Import the association rule function from mlxtend\n",
    "from mlxtend.frequent_patterns import association_rules\n",
    "\n",
    "# Compute all association rules for frequent_itemsets_1\n",
    "rules_1 = association_rules(frequent_itemsets_1, \n",
    "                            metric = \"support\", \n",
    "                         \tmin_threshold = 0.0015)\n",
    "\n",
    "frequent_itemsets_1\n",
    "\n",
    "# Compute all association rules for frequent_itemsets_2\n",
    "rules_2 = association_rules(frequent_itemsets_2, \n",
    "                            metric = \"support\", \n",
    "                        \tmin_threshold=0.0015)\n",
    "\n",
    "# Print the number of association rules generated\n",
    "print(len(rules_1), len(rules_2))"
   ]
  },
  {
   "cell_type": "markdown",
   "id": "9c90bd3a",
   "metadata": {},
   "source": [
    "## Pruning with lift"
   ]
  },
  {
   "cell_type": "code",
   "execution_count": null,
   "id": "d83265bb",
   "metadata": {},
   "outputs": [],
   "source": [
    "# Import the association rules function\n",
    "from mlxtend.frequent_patterns import association_rules\n",
    "\n",
    "# Compute frequent itemsets using the Apriori algorithm\n",
    "frequent_itemsets = apriori(onehot, min_support =0.001, \n",
    "                            max_len = 2, use_colnames = True)\n",
    "\n",
    "# Compute all association rules for frequent_itemsets\n",
    "rules = association_rules(frequent_itemsets, \n",
    "                            metric = \"lift\", \n",
    "                         \tmin_threshold = 1)\n",
    "\n",
    "# Print association rules\n",
    "print(rules)"
   ]
  },
  {
   "cell_type": "markdown",
   "id": "253c05b0",
   "metadata": {},
   "source": [
    "## Pruning with confidence"
   ]
  },
  {
   "cell_type": "code",
   "execution_count": null,
   "id": "51057b3b",
   "metadata": {},
   "outputs": [],
   "source": [
    "# Import the association rules function\n",
    "from mlxtend.frequent_patterns import association_rules\n",
    "\n",
    "# Compute frequent itemsets using the Apriori algorithm\n",
    "frequent_itemsets = apriori(onehot, min_support=0.0015, \n",
    "                            max_len=2, use_colnames = True)\n",
    "\n",
    "# Compute all association rules using confidence\n",
    "rules = association_rules(frequent_itemsets, \n",
    "                            metric = \"confidence\", \n",
    "                         \tmin_threshold = 0.5)\n",
    "\n",
    "# Print association rules\n",
    "print(rules)"
   ]
  },
  {
   "cell_type": "markdown",
   "id": "5ced4303",
   "metadata": {},
   "source": [
    "## Aggregation and filtering"
   ]
  },
  {
   "cell_type": "code",
   "execution_count": null,
   "id": "2fdbcbe2",
   "metadata": {},
   "outputs": [],
   "source": [
    "# Apply the apriori algorithm with a minimum support of 0.0001\n",
    "frequent_itemsets = apriori(aggregated, min_support=0.0001, use_colnames = True)\n",
    "\n",
    "# Generate the initial set of rules using a minimum support of 0.0001\n",
    "rules = association_rules(frequent_itemsets, \n",
    "                          metric = \"support\", min_threshold = 0.001)\n",
    "\n",
    "# Set minimum antecedent support to 0.35\n",
    "rules = rules[rules['antecedent support'] > 0.35]\n",
    "\n",
    "# Set maximum consequent support to 0.35\n",
    "rules = rules[rules['consequent support']  < 0.35]\n",
    "\n",
    "# Print the remaining rules\n",
    "print(rules)"
   ]
  },
  {
   "cell_type": "markdown",
   "id": "c52c01bf",
   "metadata": {},
   "source": [
    "## Applying Zhang's rule"
   ]
  },
  {
   "cell_type": "code",
   "execution_count": null,
   "id": "d7bb2276",
   "metadata": {},
   "outputs": [],
   "source": [
    "# Generate the initial set of rules using a minimum lift of 1.00\n",
    "rules = association_rules(frequent_itemsets, metric = \"lift\", min_threshold = 1)\n",
    "\n",
    "# Set antecedent support to 0.005\n",
    "rules = rules[rules['antecedent support'] > 0.005]\n",
    "\n",
    "# Set consequent support to 0.005\n",
    "rules = rules[rules['consequent support'] > 0.005]\n",
    "\n",
    "# Compute Zhang's rule\n",
    "rules['zhang'] = zhangs_rule(rules)\n",
    "\n",
    "# Set the lower bound for Zhang's rule to 0.98\n",
    "rules = rules[rules['zhang'] > 0.98]\n",
    "print(rules[['antecedents', 'consequents']])"
   ]
  },
  {
   "cell_type": "markdown",
   "id": "1fa3a84f",
   "metadata": {},
   "source": [
    "## Advanced filtering with multiple metrics"
   ]
  },
  {
   "cell_type": "code",
   "execution_count": null,
   "id": "8cf7451d",
   "metadata": {},
   "outputs": [],
   "source": [
    "# Apply the Apriori algorithm with a minimum support threshold of 0.001\n",
    "frequent_itemsets = apriori(onehot, min_support = 0.001, use_colnames = True)\n",
    "\n",
    "# Recover association rules using a minium support threshold of 0.001\n",
    "rules = association_rules(frequent_itemsets, metric = 'support', min_threshold = 0.001)\n",
    "\n",
    "# Apply a 0.002 antecedent support threshold, 0.60 confidence threshold, and 2.50 lift threshold\n",
    "filtered_rules = rules[(rules['antecedent support'] > 0.002) &\n",
    "\t\t\t\t\t\t(rules['consequent support'] > 0.01) &\n",
    "\t\t\t\t\t\t(rules['confidence'] > 0.6) &\n",
    "\t\t\t\t\t\t(rules['lift'] > 2.50)]\n",
    "\n",
    "# Print remaining rule\n",
    "print(filtered_rules[['antecedents','consequents']])"
   ]
  }
 ],
 "metadata": {
  "kernelspec": {
   "display_name": "Python 3",
   "language": "python",
   "name": "python3"
  },
  "language_info": {
   "codemirror_mode": {
    "name": "ipython",
    "version": 3
   },
   "file_extension": ".py",
   "mimetype": "text/x-python",
   "name": "python",
   "nbconvert_exporter": "python",
   "pygments_lexer": "ipython3",
   "version": "3.8.10"
  }
 },
 "nbformat": 4,
 "nbformat_minor": 5
}
